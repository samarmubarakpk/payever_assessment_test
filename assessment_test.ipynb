{
  "cells": [
    {
      "cell_type": "markdown",
      "metadata": {
        "id": "OHMQv0WTcCgN"
      },
      "source": [
        "## Generating Dummy DATA as per requirements"
      ]
    },
    {
      "cell_type": "code",
      "execution_count": 32,
      "metadata": {
        "colab": {
          "base_uri": "https://localhost:8080/",
          "height": 206
        },
        "id": "YuJQagKIcAej",
        "outputId": "7c761787-b474-4ca9-e067-3b5481859c67"
      },
      "outputs": [],
      "source": [
        "import pandas as pd\n",
        "import numpy as np\n",
        "import matplotlib.pyplot as plt\n",
        "from sklearn.preprocessing import LabelEncoder\n",
        "import tensorflow as tf\n",
        "from tensorflow.keras.layers import TextVectorization\n",
        "from sklearn.model_selection import train_test_split\n",
        "from tensorflow.keras import layers, models, Input"
      ]
    },
    {
      "cell_type": "code",
      "execution_count": 39,
      "metadata": {},
      "outputs": [
        {
          "data": {
            "text/html": [
              "<div>\n",
              "<style scoped>\n",
              "    .dataframe tbody tr th:only-of-type {\n",
              "        vertical-align: middle;\n",
              "    }\n",
              "\n",
              "    .dataframe tbody tr th {\n",
              "        vertical-align: top;\n",
              "    }\n",
              "\n",
              "    .dataframe thead th {\n",
              "        text-align: right;\n",
              "    }\n",
              "</style>\n",
              "<table border=\"1\" class=\"dataframe\">\n",
              "  <thead>\n",
              "    <tr style=\"text-align: right;\">\n",
              "      <th></th>\n",
              "      <th>name</th>\n",
              "      <th>description</th>\n",
              "      <th>price</th>\n",
              "      <th>category</th>\n",
              "    </tr>\n",
              "  </thead>\n",
              "  <tbody>\n",
              "    <tr>\n",
              "      <th>0</th>\n",
              "      <td>Product 1</td>\n",
              "      <td>This is the description for product 1</td>\n",
              "      <td>414.458103</td>\n",
              "      <td>Home &amp; Kitchen</td>\n",
              "    </tr>\n",
              "    <tr>\n",
              "      <th>1</th>\n",
              "      <td>Product 2</td>\n",
              "      <td>This is the description for product 2</td>\n",
              "      <td>392.880614</td>\n",
              "      <td>Electronics</td>\n",
              "    </tr>\n",
              "    <tr>\n",
              "      <th>2</th>\n",
              "      <td>Product 3</td>\n",
              "      <td>This is the description for product 3</td>\n",
              "      <td>345.867605</td>\n",
              "      <td>Clothing</td>\n",
              "    </tr>\n",
              "    <tr>\n",
              "      <th>3</th>\n",
              "      <td>Product 4</td>\n",
              "      <td>This is the description for product 4</td>\n",
              "      <td>391.715429</td>\n",
              "      <td>Electronics</td>\n",
              "    </tr>\n",
              "    <tr>\n",
              "      <th>4</th>\n",
              "      <td>Product 5</td>\n",
              "      <td>This is the description for product 5</td>\n",
              "      <td>409.524169</td>\n",
              "      <td>Electronics</td>\n",
              "    </tr>\n",
              "  </tbody>\n",
              "</table>\n",
              "</div>"
            ],
            "text/plain": [
              "        name                            description       price  \\\n",
              "0  Product 1  This is the description for product 1  414.458103   \n",
              "1  Product 2  This is the description for product 2  392.880614   \n",
              "2  Product 3  This is the description for product 3  345.867605   \n",
              "3  Product 4  This is the description for product 4  391.715429   \n",
              "4  Product 5  This is the description for product 5  409.524169   \n",
              "\n",
              "         category  \n",
              "0  Home & Kitchen  \n",
              "1     Electronics  \n",
              "2        Clothing  \n",
              "3     Electronics  \n",
              "4     Electronics  "
            ]
          },
          "execution_count": 39,
          "metadata": {},
          "output_type": "execute_result"
        }
      ],
      "source": [
        "data = {\n",
        "    'name': [f'Product {i}' for i in range(1, 401)],\n",
        "    'description': [\n",
        "        f'This is the description for product {i}' for i in range(1, 401)\n",
        "    ],\n",
        "    'price': np.random.uniform(5, 500, 400),\n",
        "    'category': np.random.choice(\n",
        "        ['Electronics', 'Books', 'Clothing', 'Home & Kitchen', 'Sports'], 400\n",
        "    )\n",
        "}\n",
        "df = pd.DataFrame(data)\n",
        "\n",
        "# Display the first few rows\n",
        "df.head()\n"
      ]
    },
    {
      "cell_type": "markdown",
      "metadata": {
        "id": "erAAKCRacY-x"
      },
      "source": [
        "## Encoding Categorical Data"
      ]
    },
    {
      "cell_type": "code",
      "execution_count": 34,
      "metadata": {
        "id": "UM495w8VbSjU"
      },
      "outputs": [],
      "source": [
        "# Encode the categories\n",
        "label_encoder = LabelEncoder()\n",
        "df['category_encoded'] = label_encoder.fit_transform(df['category'])\n",
        "\n",
        "# List of categories\n",
        "categories = label_encoder.classes_\n"
      ]
    },
    {
      "cell_type": "markdown",
      "metadata": {
        "id": "p5RcBsf2clmx"
      },
      "source": [
        "## Encoding Text Data And adjusting"
      ]
    },
    {
      "cell_type": "code",
      "execution_count": 28,
      "metadata": {
        "id": "biqbfRImbWJ2"
      },
      "outputs": [],
      "source": [
        "# Create a TextVectorization layer\n",
        "max_features = 10000  # Increased vocabulary size\n",
        "sequence_length = 50  # Increased sequence length\n",
        "\n",
        "vectorize_layer = TextVectorization(\n",
        "    max_tokens=max_features,\n",
        "    output_mode='int',\n",
        "    output_sequence_length=sequence_length\n",
        ")\n",
        "# Combine name and description into a single text field\n",
        "df['text'] = df['name'] + ' ' + df['description']\n",
        "\n",
        "# Adapt the TextVectorization layer to the text data\n",
        "vectorize_layer.adapt(df['text'])\n",
        "\n",
        "# Vectorize the text data\n",
        "text_data = vectorize_layer(df['text'])\n",
        "# Normalize the price data\n",
        "price_data = df['price'].values\n",
        "price_data = (price_data - price_data.mean()) / price_data.std()\n",
        "price_data = price_data.reshape(-1, 1)\n",
        "\n",
        "# Get the labels\n",
        "labels = df['category_encoded'].values\n",
        "\n",
        "# Convert TensorFlow tensors to NumPy arrays\n",
        "text_data_np = text_data.numpy()\n",
        "price_data_np = price_data\n",
        "labels_np = labels"
      ]
    },
    {
      "cell_type": "markdown",
      "metadata": {
        "id": "_Wya7s4UdfTC"
      },
      "source": [
        "## Splitting Data Into Train Data , Test Data\n",
        "\n",
        "---\n",
        "\n"
      ]
    },
    {
      "cell_type": "code",
      "execution_count": 40,
      "metadata": {
        "id": "GlCCHQWPbZ5g"
      },
      "outputs": [],
      "source": [
        "# Train-test split\n",
        "X_train_text_np, X_test_text_np, X_train_price_np, X_test_price_np, \\\n",
        "    y_train_np, y_test_np = train_test_split(\n",
        "        text_data_np,\n",
        "        price_data_np,\n",
        "        labels_np,\n",
        "        test_size=0.2,\n",
        "        random_state=42\n",
        "    )\n",
        "\n",
        "# Convert NumPy arrays back to TensorFlow tensors\n",
        "X_train_text = tf.convert_to_tensor(X_train_text_np)\n",
        "X_test_text = tf.convert_to_tensor(X_test_text_np)\n",
        "X_train_price = tf.convert_to_tensor(X_train_price_np)\n",
        "X_test_price = tf.convert_to_tensor(X_test_price_np)\n",
        "y_train = tf.convert_to_tensor(y_train_np)\n",
        "y_test = tf.convert_to_tensor(y_test_np)\n"
      ]
    },
    {
      "cell_type": "markdown",
      "metadata": {
        "id": "Ue4jcdu_d8AE"
      },
      "source": [
        "##Creating Model"
      ]
    },
    {
      "cell_type": "code",
      "execution_count": 44,
      "metadata": {
        "colab": {
          "base_uri": "https://localhost:8080/"
        },
        "id": "ACcCFkjebdhD",
        "outputId": "baf2601c-d7e8-4650-942a-f81329a9d5c8"
      },
      "outputs": [],
      "source": [
        "# Define the input layers\n",
        "text_input = Input(\n",
        "    shape=(sequence_length,),\n",
        "    name='text_input'\n",
        ")\n",
        "price_input = Input(\n",
        "    shape=(1,),\n",
        "    name='price_input'\n",
        ")\n",
        "\n",
        "# Embedding and text processing\n",
        "embedding = layers.Embedding(\n",
        "    input_dim=max_features,\n",
        "    output_dim=128\n",
        ")(text_input)\n",
        "text_features = layers.GlobalAveragePooling1D()(embedding)\n",
        "\n",
        "# Concatenate text feature and price\n",
        "concatenated = layers.concatenate(\n",
        "    [text_features, price_input]\n",
        ")\n",
        "\n",
        "# Fully connected layers\n",
        "dense1 = layers.Dense(\n",
        "    256,\n",
        "    activation='relu'\n",
        ")(concatenated)\n",
        "dropout1 = layers.Dropout(\n",
        "    0.5\n",
        ")(dense1)\n",
        "dense2 = layers.Dense(\n",
        "    128,\n",
        "    activation='relu'\n",
        ")(dropout1)\n",
        "dense3 = layers.Dense(\n",
        "    128,\n",
        "    activation='relu'\n",
        ")(dropout1)  # Added missing argument\n",
        "dense4 = layers.Dense(\n",
        "    256,\n",
        "    activation='relu'\n",
        ")(dropout1)\n",
        "output = layers.Dense(\n",
        "    len(categories),\n",
        "    activation='softmax'\n",
        ")(dense2)\n"
      ]
    },
    {
      "cell_type": "code",
      "execution_count": 45,
      "metadata": {},
      "outputs": [
        {
          "name": "stdout",
          "output_type": "stream",
          "text": [
            "Model: \"model_7\"\n",
            "__________________________________________________________________________________________________\n",
            " Layer (type)                Output Shape                 Param #   Connected to                  \n",
            "==================================================================================================\n",
            " text_input (InputLayer)     [(None, 50)]                 0         []                            \n",
            "                                                                                                  \n",
            " embedding_9 (Embedding)     (None, 50, 128)              1280000   ['text_input[0][0]']          \n",
            "                                                                                                  \n",
            " global_average_pooling1d_9  (None, 128)                  0         ['embedding_9[0][0]']         \n",
            "  (GlobalAveragePooling1D)                                                                        \n",
            "                                                                                                  \n",
            " price_input (InputLayer)    [(None, 1)]                  0         []                            \n"
          ]
        },
        {
          "name": "stdout",
          "output_type": "stream",
          "text": [
            "                                                                                                  \n",
            " concatenate_9 (Concatenate  (None, 129)                  0         ['global_average_pooling1d_9[0\n",
            " )                                                                  ][0]',                        \n",
            "                                                                     'price_input[0][0]']         \n",
            "                                                                                                  \n",
            " dense_45 (Dense)            (None, 256)                  33280     ['concatenate_9[0][0]']       \n",
            "                                                                                                  \n",
            " dropout_9 (Dropout)         (None, 256)                  0         ['dense_45[0][0]']            \n",
            "                                                                                                  \n",
            " dense_46 (Dense)            (None, 128)                  32896     ['dropout_9[0][0]']           \n",
            "                                                                                                  \n",
            " dense_49 (Dense)            (None, 5)                    645       ['dense_46[0][0]']            \n",
            "                                                                                                  \n",
            "==================================================================================================\n",
            "Total params: 1346821 (5.14 MB)\n",
            "Trainable params: 1346821 (5.14 MB)\n",
            "Non-trainable params: 0 (0.00 Byte)\n",
            "__________________________________________________________________________________________________\n",
            "Epoch 1/10\n",
            "10/10 [==============================] - 2s 76ms/step - loss: 1.6162 - accuracy: 0.2000 - val_loss: 1.6101 - val_accuracy: 0.2750\n",
            "Epoch 2/10\n",
            "10/10 [==============================] - 0s 37ms/step - loss: 1.6031 - accuracy: 0.2188 - val_loss: 1.6071 - val_accuracy: 0.2625\n",
            "Epoch 3/10\n",
            "10/10 [==============================] - 0s 40ms/step - loss: 1.6117 - accuracy: 0.2125 - val_loss: 1.6017 - val_accuracy: 0.2750\n",
            "Epoch 4/10\n",
            "10/10 [==============================] - 0s 49ms/step - loss: 1.6067 - accuracy: 0.2250 - val_loss: 1.5997 - val_accuracy: 0.2500\n",
            "Epoch 5/10\n",
            "10/10 [==============================] - 0s 48ms/step - loss: 1.6081 - accuracy: 0.2125 - val_loss: 1.5964 - val_accuracy: 0.2750\n",
            "Epoch 6/10\n",
            "10/10 [==============================] - 0s 38ms/step - loss: 1.5974 - accuracy: 0.2438 - val_loss: 1.5984 - val_accuracy: 0.2625\n",
            "Epoch 7/10\n",
            "10/10 [==============================] - 0s 42ms/step - loss: 1.6067 - accuracy: 0.2000 - val_loss: 1.6035 - val_accuracy: 0.2625\n",
            "Epoch 8/10\n",
            "10/10 [==============================] - 1s 53ms/step - loss: 1.6008 - accuracy: 0.2000 - val_loss: 1.5955 - val_accuracy: 0.2625\n",
            "Epoch 9/10\n",
            "10/10 [==============================] - 1s 54ms/step - loss: 1.6027 - accuracy: 0.2313 - val_loss: 1.5990 - val_accuracy: 0.2625\n",
            "Epoch 10/10\n",
            "10/10 [==============================] - 1s 54ms/step - loss: 1.6026 - accuracy: 0.2188 - val_loss: 1.5970 - val_accuracy: 0.3000\n"
          ]
        }
      ],
      "source": [
        "# Create the model\n",
        "model = models.Model(\n",
        "    inputs=[text_input, price_input],\n",
        "    outputs=output\n",
        ")\n",
        "\n",
        "model.compile(\n",
        "    optimizer='adam',\n",
        "    loss='sparse_categorical_crossentropy',\n",
        "    metrics=['accuracy']\n",
        ")\n",
        "\n",
        "model.summary()\n",
        "\n",
        "# Train the model\n",
        "history = model.fit(\n",
        "    {'text_input': X_train_text, 'price_input': X_train_price},\n",
        "    y_train,\n",
        "    epochs=10,\n",
        "    validation_data=(\n",
        "        {'text_input': X_test_text, 'price_input': X_test_price},\n",
        "        y_test\n",
        "    ),\n",
        "    batch_size=32\n",
        ")\n"
      ]
    },
    {
      "cell_type": "markdown",
      "metadata": {
        "id": "v1_WkmhueIl1"
      },
      "source": [
        "## Evaluating"
      ]
    },
    {
      "cell_type": "code",
      "execution_count": 31,
      "metadata": {
        "colab": {
          "base_uri": "https://localhost:8080/"
        },
        "id": "UWNvqFNseGr0",
        "outputId": "cbbea613-95c5-4336-c4d9-d1ec5f8d7000"
      },
      "outputs": [
        {
          "name": "stdout",
          "output_type": "stream",
          "text": [
            "3/3 [==============================] - 0s 5ms/step - loss: 1.6065 - accuracy: 0.2875\n",
            "Test Accuracy: 28.75%\n"
          ]
        }
      ],
      "source": [
        "# Evaluate the model\n",
        "loss, accuracy = model.evaluate(\n",
        "    {'text_input': X_test_text, 'price_input': X_test_price},\n",
        "    y_test\n",
        ")\n",
        "print(f\"Test Accuracy: {accuracy * 100:.2f}%\")\n"
      ]
    },
    {
      "cell_type": "markdown",
      "metadata": {
        "id": "DASJiJgBfDzb"
      },
      "source": [
        "##Graphical Representation"
      ]
    },
    {
      "cell_type": "code",
      "execution_count": 37,
      "metadata": {
        "colab": {
          "base_uri": "https://localhost:8080/",
          "height": 410
        },
        "id": "06w9QDEZblUA",
        "outputId": "399882ac-2bbc-4a46-be3b-cfda25937602"
      },
      "outputs": [
        {
          "data": {
            "image/png": "[encoded data removed]",
            "text/plain": [
              "<Figure size 1200x400 with 2 Axes>"
            ]
          },
          "metadata": {},
          "output_type": "display_data"
        }
      ],
      "source": [
        "# Plot training & validation accuracy values\n",
        "plt.figure(figsize=(12, 4))\n",
        "plt.subplot(1, 2, 1)\n",
        "plt.plot(history.history['accuracy'])\n",
        "plt.plot(history.history['val_accuracy'])\n",
        "plt.title('Model accuracy')\n",
        "plt.ylabel('Accuracy')\n",
        "plt.xlabel('Epoch')\n",
        "plt.legend(['Train', 'Test'], loc='upper left')\n",
        "\n",
        "# Plot training & validation loss values\n",
        "plt.subplot(1, 2, 2)\n",
        "plt.plot(history.history['loss'])\n",
        "plt.plot(history.history['val_loss'])\n",
        "plt.title('Model loss')\n",
        "plt.ylabel('Loss')\n",
        "plt.xlabel('Epoch')\n",
        "plt.legend(['Train', 'Test'], loc='upper left')\n",
        "\n",
        "plt.show()\n"
      ]
    },
    {
      "cell_type": "code",
      "execution_count": null,
      "metadata": {
        "id": "R6CvvTt1boqa"
      },
      "outputs": [],
      "source": []
    },
    {
      "cell_type": "code",
      "execution_count": null,
      "metadata": {},
      "outputs": [],
      "source": []
    }
  ],
  "metadata": {
    "colab": {
      "provenance": []
    },
    "kernelspec": {
      "display_name": "Python 3",
      "name": "python3"
    },
    "language_info": {
      "codemirror_mode": {
        "name": "ipython",
        "version": 3
      },
      "file_extension": ".py",
      "mimetype": "text/x-python",
      "name": "python",
      "nbconvert_exporter": "python",
      "pygments_lexer": "ipython3",
      "version": "3.10.11"
    }
  },
  "nbformat": 4,
  "nbformat_minor": 0
}
